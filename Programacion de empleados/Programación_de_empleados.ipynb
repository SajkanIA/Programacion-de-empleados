{
  "nbformat": 4,
  "nbformat_minor": 0,
  "metadata": {
    "colab": {
      "provenance": []
    },
    "kernelspec": {
      "name": "python3",
      "display_name": "Python 3"
    },
    "language_info": {
      "name": "python"
    }
  },
  "cells": [
    {
      "cell_type": "markdown",
      "source": [
        "#Clase turno"
      ],
      "metadata": {
        "id": "ydRwXZpOxLOV"
      }
    },
    {
      "cell_type": "code",
      "source": [
        "class Departamento():\n",
        "  \"\"\"\n",
        "    Clase creadora de departamentos.\n",
        "  \"\"\"\n",
        "  def __init__(self, nombre, habilidades_requeridas):\n",
        "    \"\"\"\n",
        "      Este metodo constructor agrega el nombre y las habilidades que requiere el\n",
        "      departamento.\n",
        "    \"\"\"\n",
        "    self.nombre = nombre\n",
        "    self.habilidades_requeridas = habilidades_requeridas\n",
        "\n",
        "  def cambia_nombre(self, nuevo_nombre):\n",
        "    self.nombre = nuevo_nombre\n",
        "\n",
        "  def cambia_habilidades(self, nueva_habilidad):\n",
        "    \"\"\"\n",
        "      Esta funcion permite cambiar la habilidad requerida.\n",
        "    \"\"\"\n",
        "    self.habilidades_requeridas = nueva_habilidad\n",
        "\n",
        "  def ver_habilidades(self):\n",
        "    \"\"\"\n",
        "      Esta funcion permite ver la habilidad requerida.\n",
        "    \"\"\"\n",
        "    return self.habilidades_requeridas\n",
        "\n",
        "  def ver_nombre(self):\n",
        "    \"\"\"\n",
        "      Esta funcion permmite ver el nombre.\n",
        "    \"\"\"\n",
        "    return self.nombre\n",
        "\n",
        "  def __str__(self):\n",
        "    return self.nombre"
      ],
      "metadata": {
        "id": "IibOMFpcy2xw"
      },
      "execution_count": null,
      "outputs": []
    },
    {
      "cell_type": "code",
      "source": [
        "class Turno():\n",
        "  \"\"\"\n",
        "    Esta clase permite crear el turno de trabajo.\n",
        "  \"\"\"\n",
        "  def __init__(self, inicio_del_turno, final_del_turno, departamento,dias , empleado = None):\n",
        "    \"\"\"\n",
        "      Este metodo constructor crea:\n",
        "\n",
        "      empleado: persona que ocupara el puesto.\n",
        "      inicio_del_turno: cuando inicia el turno (formato 24 horas).\n",
        "      final_del_turno: cuando termian el truno (formato 24 horas).\n",
        "      duracion: duracion del turno.\n",
        "      departamento: el departamento al que pertence le turno. (Objeto de la clase Departamento)\n",
        "      dias: dias en los que estaran disponibles el turno.\n",
        "    \"\"\"\n",
        "    self.empleado = empleado\n",
        "    self.inicio_del_turno = inicio_del_turno\n",
        "    self.final_del_turno = final_del_turno\n",
        "    self.departamento = departamento\n",
        "    self.dias = dias\n",
        "\n",
        "  def cambio_de_empleado(self, nuevo_empleado):\n",
        "    self.empleado = nuevo_empleado\n",
        "\n",
        "  def ver_empleado(self):\n",
        "    #Visualizador del atributo empleados\n",
        "    return self.empleado\n",
        "\n",
        "  def ver_inicio_del_turno(self):\n",
        "    #Visualizador del atributo inicio_del_turno\n",
        "    return self.inicio_del_turno\n",
        "\n",
        "  def ver_final_del_turno(self):\n",
        "    #Visualizador del atributo final_del_turno\n",
        "    return self.final_del_turno\n",
        "\n",
        "\n",
        "\n",
        "  def ver_departamento(self):\n",
        "    #Visualizador del atributo departamento\n",
        "    return self.departamento\n",
        "\n",
        "  def ver_dias(self):\n",
        "    #Visualizador del atributo dias\n",
        "    return self.dias\n"
      ],
      "metadata": {
        "id": "-y-wAlL4xKo7"
      },
      "execution_count": null,
      "outputs": []
    },
    {
      "cell_type": "code",
      "execution_count": null,
      "metadata": {
        "id": "HkDulSSLwi6N"
      },
      "outputs": [],
      "source": [
        "def agregar_dep(nombre, habilidades_requeridas):\n",
        "  \"\"\"\n",
        "    Crea el objeto que referencia el departamento\n",
        "\n",
        "    inputs:\n",
        "          -> nombre: nombre del departamento\n",
        "          -> habilidad_requerida: hablididad requerida para participar en el\n",
        "             departamento.\n",
        "  \"\"\"\n",
        "\n",
        "  nombre = nombre.lower()\n",
        "  habilidades_requeridas = habilidades_requeridas.lower()\n",
        "  return Departamento(nombre, habilidades_requeridas)"
      ]
    },
    {
      "cell_type": "code",
      "source": [
        "def crea_dep():\n",
        "  \"\"\"\n",
        "    Esta funcion crea los departamentos que se utilziaran.\n",
        "  \"\"\"\n",
        "  departamentos = []\n",
        "\n",
        "  while True:\n",
        "    #Ciclo para agregar todos los departamentos que el usuario elija.\n",
        "    user_input = input(\"\\n\" + \"Digite 'S' para salir 'A' para agregar un nuevo departamento... \")\n",
        "\n",
        "    if user_input.lower() == 's': #Si el usuario pulsa s se sale del bucle\n",
        "      break\n",
        "\n",
        "    elif user_input.lower() == 'a': #Si el usuario pulsa a se procede a crear el departamento.\n",
        "      nombre = input(\"Digite el nombre. \")\n",
        "      habilidad_requerida = input('\\n' + \"Digite las habilidades requeridas. \")\\\n",
        "                                  .lower()\n",
        "      departamentos.append(agregar_dep(nombre, habilidad_requerida))\n",
        "\n",
        "    else:\n",
        "      print('\\n' + 'Las opcionse son \"S\" o \"A\"')\n",
        "\n",
        "  return departamentos"
      ],
      "metadata": {
        "id": "93St5I8o6jAZ"
      },
      "execution_count": null,
      "outputs": []
    },
    {
      "cell_type": "code",
      "source": [
        "def crea_turno(departamentos):\n",
        "  turno = [] #variable para el almaacenamiento de los turnos\n",
        "  for departamento in departamentos: #por cada departamento que tengamos crearemos un turno\n",
        "    user_input = input(\"Ingrese el inicio del turno, final del turno, \"\n",
        "    + str(departamento) + \" en formato 24 horas\"+\n",
        "                       \" separado por espacio\").split(\" \")\n",
        "\n",
        "    #Agregamos los dias en los que estaran disponibles este turno.\n",
        "    dias = input(\"Ingresa los dias del turno separados por un espacio\").lower()\\\n",
        "                 .split(\" \")\n",
        "\n",
        "    #vemos si ya hay alguien asignado a ese turno.\n",
        "    desicion = input(\"¿Hay alguien designado para ese turno?. Y/N\").lower()\n",
        "\n",
        "    #si lo hay agregamos el turno con la persona a la lista.\n",
        "    if desicion.lower() == 'y':\n",
        "      empleado = input(\"Ingrese el nombre del empleado\").lower()\n",
        "      turno.append(Turno(user_input[0], user_input[1],\n",
        "            departamento,dias , empleado))\n",
        "    #si no lo hay agregamos la informacion sin el nombre de la persona.\n",
        "    else:\n",
        "        turno.append(Turno(user_input[0], user_input[1],\n",
        "            departamento, dias))\n",
        "\n",
        "  return turno\n"
      ],
      "metadata": {
        "id": "kDvpNGKJFY-u"
      },
      "execution_count": null,
      "outputs": []
    },
    {
      "cell_type": "code",
      "source": [
        "departamentos = crea_dep()\n",
        "turnos = crea_turno(departamentos)"
      ],
      "metadata": {
        "colab": {
          "base_uri": "https://localhost:8080/"
        },
        "id": "nXp4uP74GS8L",
        "outputId": "e3379dbb-ae9c-4194-bcb0-462b57934e87"
      },
      "execution_count": null,
      "outputs": [
        {
          "name": "stdout",
          "output_type": "stream",
          "text": [
            "\n",
            "Digite 'S' para salir 'A' para agregar un nuevo departamento... a\n",
            "Digite el nombre. IT\n",
            "\n",
            "Digite las habilidades requeridas. IT\n",
            "\n",
            "Digite 'S' para salir 'A' para agregar un nuevo departamento... s\n",
            "Ingrese el inicio del turno, final del turno, it en formato 24 horas separado por espacio9 16\n",
            "Ingresa los dias del turno separados por un espaciolunes\n",
            "¿Hay alguien designado para ese turno?. Y/Ny\n",
            "Ingrese el nombre del empleadoSara\n"
          ]
        }
      ]
    },
    {
      "cell_type": "markdown",
      "source": [
        "# Empleados"
      ],
      "metadata": {
        "id": "ofdMuVnoV0Tm"
      }
    },
    {
      "cell_type": "code",
      "source": [
        "class Empleados():\n",
        "\n",
        "    def __init__(self, nombre, habilidades,hora_de_inicio, hora_de_salida, disponibilidad):\n",
        "        self.nombre = nombre\n",
        "        self.habilidades = habilidades\n",
        "        self.hora_de_inicio = hora_de_inicio\n",
        "        self.hora_de_salida = hora_de_salida\n",
        "        self.disponibilidad = disponibilidad\n",
        "\n",
        "    def cambia_cualidades(self,nombre=None, habilidades=None, disponibilidad=None):\n",
        "        if nombre is not None:\n",
        "            self.nombre = nombre\n",
        "        if habilidades is not None:\n",
        "            self.habilidades = habilidades\n",
        "        if disponibilidad is not None :\n",
        "            self.disponibilidad = disponibilidad\n",
        "\n",
        "        print(self.disponibilidad,self.habilidades,self.nombre)\n",
        "\n",
        "    def ver_nombre(self):\n",
        "      return self.nombre\n",
        "\n",
        "    def ver_habilidades(self):\n",
        "      return self.habilidades\n",
        "\n",
        "    def ver_hora_de_inicio(self):\n",
        "      return self.hora_de_inicio\n",
        "\n",
        "    def ver_hora_de_salida(self):\n",
        "      return self.hora_de_salida\n",
        "\n",
        "    def ver_disponiblidad(self):\n",
        "      return self.disponibilidad\n",
        "\n"
      ],
      "metadata": {
        "id": "OqKFvy8gV3tY"
      },
      "execution_count": null,
      "outputs": []
    },
    {
      "cell_type": "code",
      "source": [
        "def crear_empleados():\n",
        "  lista_de_empleados = []\n",
        "  no_salir = True\n",
        "\n",
        "  while  no_salir:\n",
        "      nombre = input(\"Ingrese el nombre: \").lower()\n",
        "      habilidades = input(\"Ingrese el habilidades: \").lower()\n",
        "      disponibilidad = input(\"Ingrese disponibilidad dias de la persona: \").lower()\\\n",
        "                            .split(\" \")\n",
        "      inicio, salida = input(\"Ingrese disponibilidad de horario de la persona separado por espacio y en formato 24horas: \").lower()\\\n",
        "                            .split(\" \")\n",
        "\n",
        "      lista_de_empleados.append(Empleados(nombre, habilidades, inicio, salida, disponibilidad))\n",
        "      respuesta = (input(\"Quiere dejar de poner empleados?si/no \").lower())\n",
        "      if respuesta == \"si\":\n",
        "        no_salir = False\n",
        "\n",
        "  return lista_de_empleados\n",
        "\n",
        "\n",
        "\n",
        "\"\"\"for i in lista_de_empleados:\n",
        "    print(i.retorna_cualidades())\"\"\""
      ],
      "metadata": {
        "id": "heXyV7ZNZ0L5",
        "colab": {
          "base_uri": "https://localhost:8080/",
          "height": 35
        },
        "outputId": "7e213460-170c-476f-d6e0-69fccb30e4a2"
      },
      "execution_count": null,
      "outputs": [
        {
          "output_type": "execute_result",
          "data": {
            "text/plain": [
              "'for i in lista_de_empleados:\\n    print(i.retorna_cualidades())'"
            ],
            "application/vnd.google.colaboratory.intrinsic+json": {
              "type": "string"
            }
          },
          "metadata": {},
          "execution_count": 47
        }
      ]
    },
    {
      "cell_type": "code",
      "source": [
        "empleados = crear_empleados()"
      ],
      "metadata": {
        "colab": {
          "base_uri": "https://localhost:8080/"
        },
        "id": "PHkh44mAkSRR",
        "outputId": "11bbb37a-435b-49ee-a2e7-da3841e2b9d2"
      },
      "execution_count": null,
      "outputs": [
        {
          "name": "stdout",
          "output_type": "stream",
          "text": [
            "Ingrese el nombre: Sara\n",
            "Ingrese el habilidades: IT\n",
            "Ingrese disponibilidad dias de la persona: Lunes\n",
            "Ingrese disponibilidad de horario de la persona separado por espacio y en formato 24horas: 9 16\n",
            "Quiere dejar de poner empleados?si/no si\n"
          ]
        }
      ]
    },
    {
      "cell_type": "markdown",
      "source": [
        "#Resticciones"
      ],
      "metadata": {
        "id": "ih-unMssVGMJ"
      }
    },
    {
      "cell_type": "code",
      "source": [
        "def comprueva_si_los_turnos_no_estan_cubiertos(turno):\n",
        "\n",
        "  \"\"\"\n",
        "    comprueva_si_los_turnos_estan_cubiertos\n",
        "\n",
        "    Inputs:\n",
        "          -> Un objetos\n",
        "    Output:\n",
        "          Boolean.\n",
        "  \"\"\"\n",
        "\n",
        "  return turno.ver_empleado() == None"
      ],
      "metadata": {
        "id": "sYPAG4gwJ9pn"
      },
      "execution_count": null,
      "outputs": []
    },
    {
      "cell_type": "code",
      "source": [
        "def solo_puede_cubrir_un_turno_al_día(turnos):\n",
        "\n",
        "  \"\"\"\n",
        "    Verifica si la persona cubre mas de un turno\n",
        "\n",
        "    Inputs:\n",
        "          -> Una lista de objetos\n",
        "    Output:\n",
        "          Boolean.\n",
        "  \"\"\"\n",
        "\n",
        "  l = []\n",
        "\n",
        "  for i in turnos:\n",
        "      if i.ver_empleado() not in l:\n",
        "        l.append(i.ver_empleado())\n",
        "      else:\n",
        "        return False\n",
        "  return True\n",
        "\n"
      ],
      "metadata": {
        "id": "_AIVhORnnNds"
      },
      "execution_count": null,
      "outputs": []
    },
    {
      "cell_type": "code",
      "source": [
        "def hab_persona_vs_hab_dep(hab_persona, hab_departamento):\n",
        "  \"\"\"\n",
        "    Esta funcion revisa si las habilidades de las personas es igual a las\n",
        "    habilidades requeridas.\n",
        "\n",
        "    Inputs:\n",
        "          -> hab_persona: objeto donde se encuentra las habilidades de la persona.\n",
        "          -> hab_departamento: objeto donde se encuentra las habilidades requeridas\n",
        "             por el departamento.\n",
        "    Output:\n",
        "          Boolean.\n",
        "  \"\"\"\n",
        "  return hab_persona.ver_habilidades() == hab_departamento.departamento.ver_habilidades()"
      ],
      "metadata": {
        "id": "ms06IfL9VIZV"
      },
      "execution_count": null,
      "outputs": []
    },
    {
      "cell_type": "code",
      "source": [
        "def respeta_disponibilidad(dips_emp, dip_tur):\n",
        "  \"\"\"\n",
        "    Verifica si la persona ocupa la disponibilidad de horario.\n",
        "\n",
        "    Inputs:\n",
        "          -> dips_emp: objeto donde se encuentra la disponibilidad de la persona.\n",
        "          -> dip_tur: objeto donde se encuentra la disponibilidad requeridas\n",
        "             por el departamento.\n",
        "    Output:\n",
        "          Boolean.\n",
        "  \"\"\"\n",
        "  return dips_emp.ver_disponiblidad() == dip_tur.ver_dias()"
      ],
      "metadata": {
        "id": "1BXdNPhptfQ9"
      },
      "execution_count": null,
      "outputs": []
    },
    {
      "cell_type": "code",
      "source": [
        "def backtrack(turnos, empleados):\n",
        "  \"\"\"\n",
        "    Busca la solucion al problema utilizando recursion. Cada vez que se cumple\n",
        "    restriccion se abre una nueva rama\n",
        "  \"\"\"\n",
        "\n",
        "  lista_de_turnos = turnos.copy()\n",
        "  if len(lista_de_turnos) == 0:\n",
        "    return\n",
        "\n",
        "  turno = lista_de_turnos.pop(0)\n",
        "\n",
        "  if all([x.ver_empleado() != None for x in turnos]):\n",
        "    return \"Completado correctamente\"\n",
        "\n",
        "  for empleado in empleados:\n",
        "    if comprueva_si_los_turnos_no_estan_cubiertos(turno):\n",
        "      if hab_persona_vs_hab_dep(empleado, turno) and respeta_disponibilidad(empleado, turno):\n",
        "        turno.cambio_de_empleado(empleado)\n",
        "        backtrack(lista_de_turnos, empleados)\n",
        "\n",
        "  backtrack(lista_de_turnos, empleados)\n",
        "\n",
        "  return \"Terminado\""
      ],
      "metadata": {
        "id": "522vCiUttgeQ"
      },
      "execution_count": null,
      "outputs": []
    },
    {
      "cell_type": "code",
      "source": [
        "backtrack(turnos, empleados)"
      ],
      "metadata": {
        "colab": {
          "base_uri": "https://localhost:8080/",
          "height": 72
        },
        "id": "_PzWgh97LNjl",
        "outputId": "580736df-ad80-4e1b-9dac-4c15b5684bfb"
      },
      "execution_count": null,
      "outputs": [
        {
          "output_type": "stream",
          "name": "stdout",
          "text": [
            "hola\n",
            "hola\n"
          ]
        },
        {
          "output_type": "execute_result",
          "data": {
            "text/plain": [
              "'Terminado'"
            ],
            "application/vnd.google.colaboratory.intrinsic+json": {
              "type": "string"
            }
          },
          "metadata": {},
          "execution_count": 188
        }
      ]
    },
    {
      "cell_type": "code",
      "source": [
        "turnos = turnos\n",
        "turnos1 = turnos\n",
        "dominio ={x:empleados.copy() for x in turnos}"
      ],
      "metadata": {
        "id": "nWeOCsbApg_l"
      },
      "execution_count": null,
      "outputs": []
    },
    {
      "cell_type": "code",
      "source": [
        "def AC3():\n",
        "\n",
        "    var_l = [(x,y) for x in turnos for y in empleados.copy()]\n",
        "    while len(var_l) !=0:\n",
        "        xi,xj = var_l.pop(0)\n",
        "\n",
        "        if revisar(xi,xj):\n",
        "\n",
        "            if len(dominio[xi])==0:\n",
        "                print(var_l)\n",
        "                return False\n",
        "            turnos.remove(xj)\n",
        "            for xk in turnos:\n",
        "                var_l.append([xk,xi])\n",
        "\n",
        "    return True\n",
        "def revisar(xi,xj):\n",
        "    borrado = False\n",
        "    for x in dominio[xi]:\n",
        "        if not any(respeta_disponibilidad(x,y) and comprueva_si_los_turnos_no_estan_cubiertos(x) and solo_puede_cubrir_un_turno_al_día(x) and hab_persona_vs_hab_dep(x,y) for y in dominio[xj]):\n",
        "            dominio[xi].remove(x)\n",
        "            borrado = True\n",
        "\n",
        "    return borrado\n",
        "#and comprueva_si_los_turnos_no_estan_cubiertos() and hab_persona_vs_hab_dep() and solo_puede_cubrir_un_turno_al_día()"
      ],
      "metadata": {
        "id": "fiMcijv3fml4"
      },
      "execution_count": null,
      "outputs": []
    },
    {
      "cell_type": "code",
      "source": [
        "print(dominio)"
      ],
      "metadata": {
        "colab": {
          "base_uri": "https://localhost:8080/"
        },
        "id": "t6xxstDA4dtR",
        "outputId": "69ff2590-b6f5-423d-823d-9461958e3e96"
      },
      "execution_count": null,
      "outputs": [
        {
          "output_type": "stream",
          "name": "stdout",
          "text": [
            "{<__main__.Turno object at 0x7bc0500f4880>: [<__main__.Empleados object at 0x7bc0500f5750>]}\n"
          ]
        }
      ]
    },
    {
      "cell_type": "code",
      "source": [
        "for x in dominio.keys():\n",
        "    y = x"
      ],
      "metadata": {
        "id": "dgGf5wWOjo4N"
      },
      "execution_count": null,
      "outputs": []
    },
    {
      "cell_type": "code",
      "source": [
        "print(y)"
      ],
      "metadata": {
        "colab": {
          "base_uri": "https://localhost:8080/"
        },
        "id": "2E5CoNwtkG3z",
        "outputId": "b5df52dd-0bb2-4fdd-b3dd-6ce1b1fdee48"
      },
      "execution_count": null,
      "outputs": [
        {
          "output_type": "stream",
          "name": "stdout",
          "text": [
            "<__main__.Turno object at 0x7bc0500f4880>\n"
          ]
        }
      ]
    },
    {
      "cell_type": "code",
      "source": [
        "for key, value in dominio.items():\n",
        "    print(f'{key}: {value}')"
      ],
      "metadata": {
        "colab": {
          "base_uri": "https://localhost:8080/"
        },
        "id": "iMoeeXrGkc4y",
        "outputId": "d50e62a0-2b84-4219-ed37-84b69d91dcbf"
      },
      "execution_count": null,
      "outputs": [
        {
          "output_type": "stream",
          "name": "stdout",
          "text": [
            "<__main__.Turno object at 0x7bc0500f4880>: [<__main__.Empleados object at 0x7bc0500f5750>]\n"
          ]
        }
      ]
    },
    {
      "cell_type": "code",
      "source": [
        "AC3()"
      ],
      "metadata": {
        "colab": {
          "base_uri": "https://localhost:8080/",
          "height": 339
        },
        "id": "hCkE9my0kzoI",
        "outputId": "97d37aed-dc05-40db-b49c-dbb2c5591b48"
      },
      "execution_count": null,
      "outputs": [
        {
          "output_type": "error",
          "ename": "KeyError",
          "evalue": "ignored",
          "traceback": [
            "\u001b[0;31m---------------------------------------------------------------------------\u001b[0m",
            "\u001b[0;31mKeyError\u001b[0m                                  Traceback (most recent call last)",
            "\u001b[0;32m<ipython-input-69-30cfbe8673bd>\u001b[0m in \u001b[0;36m<cell line: 1>\u001b[0;34m()\u001b[0m\n\u001b[0;32m----> 1\u001b[0;31m \u001b[0mAC3\u001b[0m\u001b[0;34m(\u001b[0m\u001b[0;34m)\u001b[0m\u001b[0;34m\u001b[0m\u001b[0;34m\u001b[0m\u001b[0m\n\u001b[0m",
            "\u001b[0;32m<ipython-input-68-55d265e81682>\u001b[0m in \u001b[0;36mAC3\u001b[0;34m()\u001b[0m\n\u001b[1;32m      5\u001b[0m         \u001b[0mxi\u001b[0m\u001b[0;34m,\u001b[0m\u001b[0mxj\u001b[0m \u001b[0;34m=\u001b[0m \u001b[0mvar_l\u001b[0m\u001b[0;34m.\u001b[0m\u001b[0mpop\u001b[0m\u001b[0;34m(\u001b[0m\u001b[0;36m0\u001b[0m\u001b[0;34m)\u001b[0m\u001b[0;34m\u001b[0m\u001b[0;34m\u001b[0m\u001b[0m\n\u001b[1;32m      6\u001b[0m \u001b[0;34m\u001b[0m\u001b[0m\n\u001b[0;32m----> 7\u001b[0;31m         \u001b[0;32mif\u001b[0m \u001b[0mrevisar\u001b[0m\u001b[0;34m(\u001b[0m\u001b[0mxi\u001b[0m\u001b[0;34m,\u001b[0m\u001b[0mxj\u001b[0m\u001b[0;34m)\u001b[0m\u001b[0;34m:\u001b[0m\u001b[0;34m\u001b[0m\u001b[0;34m\u001b[0m\u001b[0m\n\u001b[0m\u001b[1;32m      8\u001b[0m \u001b[0;34m\u001b[0m\u001b[0m\n\u001b[1;32m      9\u001b[0m             \u001b[0;32mif\u001b[0m \u001b[0mlen\u001b[0m\u001b[0;34m(\u001b[0m\u001b[0mdominio\u001b[0m\u001b[0;34m[\u001b[0m\u001b[0mxi\u001b[0m\u001b[0;34m]\u001b[0m\u001b[0;34m)\u001b[0m\u001b[0;34m==\u001b[0m\u001b[0;36m0\u001b[0m\u001b[0;34m:\u001b[0m\u001b[0;34m\u001b[0m\u001b[0;34m\u001b[0m\u001b[0m\n",
            "\u001b[0;32m<ipython-input-68-55d265e81682>\u001b[0m in \u001b[0;36mrevisar\u001b[0;34m(xi, xj)\u001b[0m\n\u001b[1;32m     18\u001b[0m     \u001b[0mborrado\u001b[0m \u001b[0;34m=\u001b[0m \u001b[0;32mFalse\u001b[0m\u001b[0;34m\u001b[0m\u001b[0;34m\u001b[0m\u001b[0m\n\u001b[1;32m     19\u001b[0m     \u001b[0;32mfor\u001b[0m \u001b[0mx\u001b[0m \u001b[0;32min\u001b[0m \u001b[0mdominio\u001b[0m\u001b[0;34m[\u001b[0m\u001b[0mxi\u001b[0m\u001b[0;34m]\u001b[0m\u001b[0;34m:\u001b[0m\u001b[0;34m\u001b[0m\u001b[0;34m\u001b[0m\u001b[0m\n\u001b[0;32m---> 20\u001b[0;31m         \u001b[0;32mif\u001b[0m \u001b[0;32mnot\u001b[0m \u001b[0many\u001b[0m\u001b[0;34m(\u001b[0m\u001b[0mrespeta_disponibilidad\u001b[0m\u001b[0;34m(\u001b[0m\u001b[0mx\u001b[0m\u001b[0;34m,\u001b[0m\u001b[0my\u001b[0m\u001b[0;34m)\u001b[0m \u001b[0;32mand\u001b[0m \u001b[0mcomprueva_si_los_turnos_no_estan_cubiertos\u001b[0m\u001b[0;34m(\u001b[0m\u001b[0mx\u001b[0m\u001b[0;34m)\u001b[0m \u001b[0;32mand\u001b[0m \u001b[0msolo_puede_cubrir_un_turno_al_día\u001b[0m\u001b[0;34m(\u001b[0m\u001b[0mx\u001b[0m\u001b[0;34m)\u001b[0m \u001b[0;32mand\u001b[0m \u001b[0mhab_persona_vs_hab_dep\u001b[0m\u001b[0;34m(\u001b[0m\u001b[0mx\u001b[0m\u001b[0;34m,\u001b[0m\u001b[0my\u001b[0m\u001b[0;34m)\u001b[0m \u001b[0;32mfor\u001b[0m \u001b[0my\u001b[0m \u001b[0;32min\u001b[0m \u001b[0mdominio\u001b[0m\u001b[0;34m[\u001b[0m\u001b[0mxj\u001b[0m\u001b[0;34m]\u001b[0m\u001b[0;34m)\u001b[0m\u001b[0;34m:\u001b[0m\u001b[0;34m\u001b[0m\u001b[0;34m\u001b[0m\u001b[0m\n\u001b[0m\u001b[1;32m     21\u001b[0m             \u001b[0mdominio\u001b[0m\u001b[0;34m[\u001b[0m\u001b[0mxi\u001b[0m\u001b[0;34m]\u001b[0m\u001b[0;34m.\u001b[0m\u001b[0mremove\u001b[0m\u001b[0;34m(\u001b[0m\u001b[0mx\u001b[0m\u001b[0;34m)\u001b[0m\u001b[0;34m\u001b[0m\u001b[0;34m\u001b[0m\u001b[0m\n\u001b[1;32m     22\u001b[0m             \u001b[0mborrado\u001b[0m \u001b[0;34m=\u001b[0m \u001b[0;32mTrue\u001b[0m\u001b[0;34m\u001b[0m\u001b[0;34m\u001b[0m\u001b[0m\n",
            "\u001b[0;31mKeyError\u001b[0m: <__main__.Empleados object at 0x7bc0500f5750>"
          ]
        }
      ]
    },
    {
      "cell_type": "code",
      "source": [],
      "metadata": {
        "id": "uqWIVUiEluFF"
      },
      "execution_count": null,
      "outputs": []
    }
  ]
}